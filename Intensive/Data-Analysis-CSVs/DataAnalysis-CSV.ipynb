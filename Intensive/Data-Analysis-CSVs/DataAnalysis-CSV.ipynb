{
 "cells": [
  {
   "cell_type": "markdown",
   "metadata": {},
   "source": [
    "# Data Analysis with CSVs"
   ]
  },
  {
   "cell_type": "markdown",
   "metadata": {},
   "source": [
    "In this lesson, we'll complete a full data analysis with a raw data file. **Comma Separated Values** files, known as CSVs, are one of the most common file formats for storing tabular data. In this lesson, we'll show you how to load one into memory and work with it using Python."
   ]
  },
  {
   "cell_type": "markdown",
   "metadata": {},
   "source": [
    "# Objectives"
   ]
  },
  {
   "cell_type": "markdown",
   "metadata": {},
   "source": [
    "Perform a complete data analysis by...\n",
    "\n",
    "- Creating a Python data structure from a .csv file\n",
    "- Exploring and cleaning the data \n",
    "- Conducting descriptive analysis\n",
    "- Visualizing the results"
   ]
  },
  {
   "cell_type": "markdown",
   "metadata": {},
   "source": [
    "# Loading a CSV"
   ]
  },
  {
   "cell_type": "markdown",
   "metadata": {},
   "source": [
    "The before you can work with a CSV file, you need to load it into memory.\n",
    "\n",
    "We'll be working with food data! Data source: https://www.kaggle.com/datasets/openfoodfacts/world-food-facts (version we're using has been lightly cleaned and edited for clarity, and because we don't need all 163 columns)"
   ]
  },
  {
   "cell_type": "markdown",
   "metadata": {},
   "source": [
    "## First up - to the Terminal!"
   ]
  },
  {
   "cell_type": "markdown",
   "metadata": {},
   "source": [
    "## Get the File Path"
   ]
  },
  {
   "cell_type": "markdown",
   "metadata": {},
   "source": [
    "Make sure you have the path to your data file. For this example, it is in the root folder of this repository.\n",
    "\n",
    "Open a new Terminal window (one that doesn't have Jupyter running) and check out the _relative_ location and path between this notebook and the `OpenFoodFacts.csv` data file."
   ]
  },
  {
   "cell_type": "markdown",
   "metadata": {},
   "source": [
    "Now, let's save that relative path here, as a string variable.\n",
    "\n",
    "We use `.` to indicate the root folder of the repository when working within this notebook."
   ]
  },
  {
   "cell_type": "code",
   "execution_count": 6,
   "metadata": {},
   "outputs": [
    {
     "name": "stdout",
     "output_type": "stream",
     "text": [
      "/c/Users/skmiller/Documents/Flatiron/DS-Deloitte-070723/Intensive/Data-Analysis-CSVs\n"
     ]
    }
   ],
   "source": [
    "!pwd"
   ]
  },
  {
   "cell_type": "code",
   "execution_count": 7,
   "metadata": {},
   "outputs": [],
   "source": [
    "csv_file_path = './data/OpenFoodFacts.csv'"
   ]
  },
  {
   "cell_type": "markdown",
   "metadata": {},
   "source": [
    "## Inspecting CSV files"
   ]
  },
  {
   "cell_type": "markdown",
   "metadata": {},
   "source": [
    "In a CSV file, each line represents one row of tabular data, and consecutive values in that row are separated by a comma. Often, the first row contains the column names separated by commas, also known as field names. Let's confirm that this is the case and learn about our dataset by printing the first five lines of the file."
   ]
  },
  {
   "cell_type": "markdown",
   "metadata": {},
   "source": [
    "We can inspect the data directly in our terminal! Use the bash command `head` with the flag `-n 5` to check out those first two rows."
   ]
  },
  {
   "cell_type": "markdown",
   "metadata": {},
   "source": [
    "### Printing Lines in Python"
   ]
  },
  {
   "cell_type": "markdown",
   "metadata": {},
   "source": [
    "We use the `with open()` syntax to easily open and read the file in the notebook. Using this syntax will automatically close the file once the statement is done running."
   ]
  },
  {
   "cell_type": "code",
   "execution_count": 8,
   "metadata": {},
   "outputs": [
    {
     "name": "stdout",
     "output_type": "stream",
     "text": [
      "product_name,brands,created_date,last_modified_date,serving_size,energy_100g,fat_100g,carbohydrates_100g,sugars_100g,proteins_100g\n",
      "\n"
     ]
    }
   ],
   "source": [
    "# This code prints the first line of the CSV file\n",
    "\n",
    "with open(csv_file_path) as csvfile:\n",
    "    print(csvfile.readline())"
   ]
  },
  {
   "cell_type": "markdown",
   "metadata": {},
   "source": [
    "Next, we can print the second line to look at an example of one observation from our dataset. "
   ]
  },
  {
   "cell_type": "code",
   "execution_count": 9,
   "metadata": {},
   "outputs": [
    {
     "name": "stdout",
     "output_type": "stream",
     "text": [
      "Banana Chips Sweetened (Whole),,2017-03-09,2017-03-09,28.0 g,2243.0,28.57,64.29,14.29,3.57\n",
      "\n"
     ]
    }
   ],
   "source": [
    "# This code prints the second line of the CSV file\n",
    "\n",
    "with open(csv_file_path) as csvfile:\n",
    "    csvfile.readline()\n",
    "    print(csvfile.readline())"
   ]
  },
  {
   "cell_type": "markdown",
   "metadata": {},
   "source": [
    "### Discussion"
   ]
  },
  {
   "cell_type": "markdown",
   "metadata": {},
   "source": [
    "Based on these two lines, what can we infer about the contents of the data file? What questions arise for you about the data?\n",
    "\n",
    "- \n"
   ]
  },
  {
   "cell_type": "markdown",
   "metadata": {},
   "source": [
    "## Using the `csv` module"
   ]
  },
  {
   "cell_type": "markdown",
   "metadata": {},
   "source": [
    "The [`csv` module](https://docs.python.org/3/library/csv.html) lets us easily process data in CSV files. We will use it to read each row in the `.csv` file and store its information in a Python object we can use for further analysis. "
   ]
  },
  {
   "cell_type": "code",
   "execution_count": 10,
   "metadata": {},
   "outputs": [],
   "source": [
    "import csv"
   ]
  },
  {
   "cell_type": "markdown",
   "metadata": {},
   "source": [
    "The [`csv.DictReader`](https://docs.python.org/3/library/csv.html#csv.DictReader) object is a file reader, reading each row and then converting it to a dictionary. By default, it turns each row into a dictionary, using the field names from the first row as the keys."
   ]
  },
  {
   "cell_type": "code",
   "execution_count": 11,
   "metadata": {},
   "outputs": [
    {
     "name": "stdout",
     "output_type": "stream",
     "text": [
      "{'product_name': 'Banana Chips Sweetened (Whole)', 'brands': '', 'created_date': '2017-03-09', 'last_modified_date': '2017-03-09', 'serving_size': '28.0 g', 'energy_100g': '2243.0', 'fat_100g': '28.57', 'carbohydrates_100g': '64.29', 'sugars_100g': '14.29', 'proteins_100g': '3.57'}\n"
     ]
    }
   ],
   "source": [
    "# Print OrderedDict from first row of CSV file \n",
    "\n",
    "with open(csv_file_path) as csvfile:\n",
    "    reader = csv.DictReader(csvfile)\n",
    "    print(next(reader))"
   ]
  },
  {
   "cell_type": "markdown",
   "metadata": {},
   "source": [
    "Let's get all of the data out of our file and into dictionaries, and store those dictionaries in a new list called `products`."
   ]
  },
  {
   "cell_type": "code",
   "execution_count": 12,
   "metadata": {},
   "outputs": [
    {
     "ename": "UnicodeDecodeError",
     "evalue": "'charmap' codec can't decode byte 0x81 in position 5206: character maps to <undefined>",
     "output_type": "error",
     "traceback": [
      "\u001b[1;31m---------------------------------------------------------------------------\u001b[0m",
      "\u001b[1;31mUnicodeDecodeError\u001b[0m                        Traceback (most recent call last)",
      "\u001b[1;32m<ipython-input-12-e09cbec39e69>\u001b[0m in \u001b[0;36m<module>\u001b[1;34m\u001b[0m\n\u001b[0;32m      3\u001b[0m \u001b[1;32mwith\u001b[0m \u001b[0mopen\u001b[0m\u001b[1;33m(\u001b[0m\u001b[0mcsv_file_path\u001b[0m\u001b[1;33m)\u001b[0m \u001b[1;32mas\u001b[0m \u001b[0mcsvfile\u001b[0m\u001b[1;33m:\u001b[0m\u001b[1;33m\u001b[0m\u001b[1;33m\u001b[0m\u001b[0m\n\u001b[0;32m      4\u001b[0m     \u001b[0mreader\u001b[0m \u001b[1;33m=\u001b[0m \u001b[0mcsv\u001b[0m\u001b[1;33m.\u001b[0m\u001b[0mDictReader\u001b[0m\u001b[1;33m(\u001b[0m\u001b[0mcsvfile\u001b[0m\u001b[1;33m)\u001b[0m\u001b[1;33m\u001b[0m\u001b[1;33m\u001b[0m\u001b[0m\n\u001b[1;32m----> 5\u001b[1;33m     \u001b[1;32mfor\u001b[0m \u001b[0mrow\u001b[0m \u001b[1;32min\u001b[0m \u001b[0mreader\u001b[0m\u001b[1;33m:\u001b[0m\u001b[1;33m\u001b[0m\u001b[1;33m\u001b[0m\u001b[0m\n\u001b[0m\u001b[0;32m      6\u001b[0m         \u001b[0mproducts\u001b[0m\u001b[1;33m.\u001b[0m\u001b[0mappend\u001b[0m\u001b[1;33m(\u001b[0m\u001b[0mrow\u001b[0m\u001b[1;33m)\u001b[0m\u001b[1;33m\u001b[0m\u001b[1;33m\u001b[0m\u001b[0m\n",
      "\u001b[1;32m~\\AppData\\Local\\anaconda3\\envs\\learn-env\\lib\\csv.py\u001b[0m in \u001b[0;36m__next__\u001b[1;34m(self)\u001b[0m\n\u001b[0;32m    109\u001b[0m             \u001b[1;31m# Used only for its side effect.\u001b[0m\u001b[1;33m\u001b[0m\u001b[1;33m\u001b[0m\u001b[1;33m\u001b[0m\u001b[0m\n\u001b[0;32m    110\u001b[0m             \u001b[0mself\u001b[0m\u001b[1;33m.\u001b[0m\u001b[0mfieldnames\u001b[0m\u001b[1;33m\u001b[0m\u001b[1;33m\u001b[0m\u001b[0m\n\u001b[1;32m--> 111\u001b[1;33m         \u001b[0mrow\u001b[0m \u001b[1;33m=\u001b[0m \u001b[0mnext\u001b[0m\u001b[1;33m(\u001b[0m\u001b[0mself\u001b[0m\u001b[1;33m.\u001b[0m\u001b[0mreader\u001b[0m\u001b[1;33m)\u001b[0m\u001b[1;33m\u001b[0m\u001b[1;33m\u001b[0m\u001b[0m\n\u001b[0m\u001b[0;32m    112\u001b[0m         \u001b[0mself\u001b[0m\u001b[1;33m.\u001b[0m\u001b[0mline_num\u001b[0m \u001b[1;33m=\u001b[0m \u001b[0mself\u001b[0m\u001b[1;33m.\u001b[0m\u001b[0mreader\u001b[0m\u001b[1;33m.\u001b[0m\u001b[0mline_num\u001b[0m\u001b[1;33m\u001b[0m\u001b[1;33m\u001b[0m\u001b[0m\n\u001b[0;32m    113\u001b[0m \u001b[1;33m\u001b[0m\u001b[0m\n",
      "\u001b[1;32m~\\AppData\\Local\\anaconda3\\envs\\learn-env\\lib\\encodings\\cp1252.py\u001b[0m in \u001b[0;36mdecode\u001b[1;34m(self, input, final)\u001b[0m\n\u001b[0;32m     21\u001b[0m \u001b[1;32mclass\u001b[0m \u001b[0mIncrementalDecoder\u001b[0m\u001b[1;33m(\u001b[0m\u001b[0mcodecs\u001b[0m\u001b[1;33m.\u001b[0m\u001b[0mIncrementalDecoder\u001b[0m\u001b[1;33m)\u001b[0m\u001b[1;33m:\u001b[0m\u001b[1;33m\u001b[0m\u001b[1;33m\u001b[0m\u001b[0m\n\u001b[0;32m     22\u001b[0m     \u001b[1;32mdef\u001b[0m \u001b[0mdecode\u001b[0m\u001b[1;33m(\u001b[0m\u001b[0mself\u001b[0m\u001b[1;33m,\u001b[0m \u001b[0minput\u001b[0m\u001b[1;33m,\u001b[0m \u001b[0mfinal\u001b[0m\u001b[1;33m=\u001b[0m\u001b[1;32mFalse\u001b[0m\u001b[1;33m)\u001b[0m\u001b[1;33m:\u001b[0m\u001b[1;33m\u001b[0m\u001b[1;33m\u001b[0m\u001b[0m\n\u001b[1;32m---> 23\u001b[1;33m         \u001b[1;32mreturn\u001b[0m \u001b[0mcodecs\u001b[0m\u001b[1;33m.\u001b[0m\u001b[0mcharmap_decode\u001b[0m\u001b[1;33m(\u001b[0m\u001b[0minput\u001b[0m\u001b[1;33m,\u001b[0m\u001b[0mself\u001b[0m\u001b[1;33m.\u001b[0m\u001b[0merrors\u001b[0m\u001b[1;33m,\u001b[0m\u001b[0mdecoding_table\u001b[0m\u001b[1;33m)\u001b[0m\u001b[1;33m[\u001b[0m\u001b[1;36m0\u001b[0m\u001b[1;33m]\u001b[0m\u001b[1;33m\u001b[0m\u001b[1;33m\u001b[0m\u001b[0m\n\u001b[0m\u001b[0;32m     24\u001b[0m \u001b[1;33m\u001b[0m\u001b[0m\n\u001b[0;32m     25\u001b[0m \u001b[1;32mclass\u001b[0m \u001b[0mStreamWriter\u001b[0m\u001b[1;33m(\u001b[0m\u001b[0mCodec\u001b[0m\u001b[1;33m,\u001b[0m\u001b[0mcodecs\u001b[0m\u001b[1;33m.\u001b[0m\u001b[0mStreamWriter\u001b[0m\u001b[1;33m)\u001b[0m\u001b[1;33m:\u001b[0m\u001b[1;33m\u001b[0m\u001b[1;33m\u001b[0m\u001b[0m\n",
      "\u001b[1;31mUnicodeDecodeError\u001b[0m: 'charmap' codec can't decode byte 0x81 in position 5206: character maps to <undefined>"
     ]
    }
   ],
   "source": [
    "products = []\n",
    "\n",
    "with open(csv_file_path) as csvfile:\n",
    "    reader = csv.DictReader(csvfile)\n",
    "    for row in reader:\n",
    "        products.append(row)"
   ]
  },
  {
   "cell_type": "code",
   "execution_count": 13,
   "metadata": {},
   "outputs": [
    {
     "data": {
      "text/plain": [
       "[{'product_name': 'Banana Chips Sweetened (Whole)',\n",
       "  'brands': '',\n",
       "  'created_date': '2017-03-09',\n",
       "  'last_modified_date': '2017-03-09',\n",
       "  'serving_size': '28.0 g',\n",
       "  'energy_100g': '2243.0',\n",
       "  'fat_100g': '28.57',\n",
       "  'carbohydrates_100g': '64.29',\n",
       "  'sugars_100g': '14.29',\n",
       "  'proteins_100g': '3.57'},\n",
       " {'product_name': 'Peanuts',\n",
       "  'brands': 'Torn & Glasser',\n",
       "  'created_date': '2017-03-09',\n",
       "  'last_modified_date': '2017-03-09',\n",
       "  'serving_size': '28.0 g',\n",
       "  'energy_100g': '1941.0',\n",
       "  'fat_100g': '17.86',\n",
       "  'carbohydrates_100g': '60.71',\n",
       "  'sugars_100g': '17.86',\n",
       "  'proteins_100g': '17.86'},\n",
       " {'product_name': 'Organic Salted Nut Mix',\n",
       "  'brands': 'Grizzlies',\n",
       "  'created_date': '2017-03-09',\n",
       "  'last_modified_date': '2017-03-09',\n",
       "  'serving_size': '28.0 g',\n",
       "  'energy_100g': '2540.0',\n",
       "  'fat_100g': '57.14',\n",
       "  'carbohydrates_100g': '17.86',\n",
       "  'sugars_100g': '3.57',\n",
       "  'proteins_100g': '17.86'}]"
      ]
     },
     "execution_count": 13,
     "metadata": {},
     "output_type": "execute_result"
    }
   ],
   "source": [
    "# Now look at the first 3 entries\n",
    "products[0:3]"
   ]
  },
  {
   "cell_type": "markdown",
   "metadata": {},
   "source": [
    "# Data Preparation"
   ]
  },
  {
   "cell_type": "markdown",
   "metadata": {},
   "source": [
    "Now that we've gotten all of our data into a Python object, we can prepare it for analysis. Let's look at a sample observation and consider how we might want to process it to make it easier to analyze."
   ]
  },
  {
   "cell_type": "code",
   "execution_count": 14,
   "metadata": {},
   "outputs": [
    {
     "data": {
      "text/plain": [
       "{'product_name': 'Banana Chips Sweetened (Whole)',\n",
       " 'brands': '',\n",
       " 'created_date': '2017-03-09',\n",
       " 'last_modified_date': '2017-03-09',\n",
       " 'serving_size': '28.0 g',\n",
       " 'energy_100g': '2243.0',\n",
       " 'fat_100g': '28.57',\n",
       " 'carbohydrates_100g': '64.29',\n",
       " 'sugars_100g': '14.29',\n",
       " 'proteins_100g': '3.57'}"
      ]
     },
     "execution_count": 14,
     "metadata": {},
     "output_type": "execute_result"
    }
   ],
   "source": [
    "products[0]"
   ]
  },
  {
   "cell_type": "markdown",
   "metadata": {},
   "source": [
    "**Discussion:** How might you clean these entries to make them easier to analyze?\n",
    "\n",
    "- \n"
   ]
  },
  {
   "cell_type": "markdown",
   "metadata": {},
   "source": [
    "## Clean the Serving Size (and other numbers)"
   ]
  },
  {
   "cell_type": "markdown",
   "metadata": {},
   "source": [
    "You might have noticed that all of these numbers are strings! Hard to do things like math on strings.\n",
    "\n",
    "In addition, the `serving_size` here has ` g` at the end - in fact, I know from doing more analysis on this data that ALL of these are in grams, and have ` g` at the end. Let's remove that so we can treat those as numbers too!"
   ]
  },
  {
   "cell_type": "code",
   "execution_count": 15,
   "metadata": {},
   "outputs": [
    {
     "data": {
      "text/plain": [
       "14.29"
      ]
     },
     "execution_count": 15,
     "metadata": {},
     "output_type": "execute_result"
    }
   ],
   "source": [
    "# First, let's do a one off example - how to we turn a string into a float?\n",
    "float(products[0]['sugars_100g'])"
   ]
  },
  {
   "cell_type": "code",
   "execution_count": 16,
   "metadata": {},
   "outputs": [
    {
     "data": {
      "text/plain": [
       "28.0"
      ]
     },
     "execution_count": 16,
     "metadata": {},
     "output_type": "execute_result"
    }
   ],
   "source": [
    "# And how can we remove the ' g' from the end of the serving sizes?\n",
    "float(products[0]['serving_size'].strip(\" g\"))"
   ]
  },
  {
   "cell_type": "code",
   "execution_count": 17,
   "metadata": {},
   "outputs": [],
   "source": [
    "# Now that we've figured out what to do, let's clean up these dicts!\n",
    "for product in products:\n",
    "    # Clean up serving size\n",
    "    product['serving_size_g'] = float(product['serving_size'].strip(\" g\"))\n",
    "\n",
    "    # Clean up all the values if the key contains \"100g\"\n",
    "    for key, detail in product.items():\n",
    "        if '100g' in key:\n",
    "            # now - we have some blanks in here!\n",
    "            # introducing: try / except!\n",
    "            try: # tries to do this first thing\n",
    "                product[key] = float(detail)\n",
    "            except: # does this if the first thing doesn't work\n",
    "                product[key] = 0.0"
   ]
  },
  {
   "cell_type": "code",
   "execution_count": 18,
   "metadata": {
    "scrolled": false
   },
   "outputs": [
    {
     "data": {
      "text/plain": [
       "{'product_name': 'Banana Chips Sweetened (Whole)',\n",
       " 'brands': '',\n",
       " 'created_date': '2017-03-09',\n",
       " 'last_modified_date': '2017-03-09',\n",
       " 'serving_size': '28.0 g',\n",
       " 'energy_100g': 2243.0,\n",
       " 'fat_100g': 28.57,\n",
       " 'carbohydrates_100g': 64.29,\n",
       " 'sugars_100g': 14.29,\n",
       " 'proteins_100g': 3.57,\n",
       " 'serving_size_g': 28.0}"
      ]
     },
     "execution_count": 18,
     "metadata": {},
     "output_type": "execute_result"
    }
   ],
   "source": [
    "# Check it out:\n",
    "products[0]"
   ]
  },
  {
   "cell_type": "markdown",
   "metadata": {},
   "source": [
    "## Clean the Dates"
   ]
  },
  {
   "cell_type": "markdown",
   "metadata": {},
   "source": [
    "Next we'll clean the dates so that we can easily get the month and year when each food was added to this database."
   ]
  },
  {
   "cell_type": "markdown",
   "metadata": {},
   "source": [
    "### Using Python built-in methods"
   ]
  },
  {
   "cell_type": "markdown",
   "metadata": {},
   "source": [
    "**Activity**: Process the `products` list to add numeric values for the month and year when each entry was first created! (aka parse out `created_date`)"
   ]
  },
  {
   "cell_type": "code",
   "execution_count": 19,
   "metadata": {},
   "outputs": [],
   "source": [
    "# Your work here\n",
    "for product in products:\n",
    "    # Save the date to a variable\n",
    "    string_date = product[\"created_date\"]\n",
    "\n",
    "    # Extract the sale year and month from the string, and cast to int\n",
    "    created_year = int(string_date[0:4])\n",
    "    created_month = int(string_date[5:7])    \n",
    "\n",
    "    # Add the sale year and month to each dictionary element of sales\n",
    "    product[\"created_year\"] = created_year\n",
    "    product[\"created_month\"] = created_month"
   ]
  },
  {
   "cell_type": "markdown",
   "metadata": {},
   "source": [
    "<details>\n",
    "    <summary><b><u>Click Here for Answer Code</u></b></summary>\n",
    "    \n",
    "```python    \n",
    "for product in products[:10]:\n",
    "    # Save the date to a variable\n",
    "    string_date = product[\"created_date\"]\n",
    "\n",
    "    # Extract the sale year and month from the string, and cast to int\n",
    "    created_year = int(string_date[0:4])\n",
    "    created_month = int(string_date[5:7])    \n",
    "\n",
    "    # Add the sale year and month to each dictionary element of sales\n",
    "    product[\"created_year\"] = created_year\n",
    "    product[\"created_month\"] = created_month\n",
    "```\n",
    "</details>"
   ]
  },
  {
   "cell_type": "code",
   "execution_count": 20,
   "metadata": {},
   "outputs": [
    {
     "data": {
      "text/plain": [
       "{'product_name': 'Banana Chips Sweetened (Whole)',\n",
       " 'brands': '',\n",
       " 'created_date': '2017-03-09',\n",
       " 'last_modified_date': '2017-03-09',\n",
       " 'serving_size': '28.0 g',\n",
       " 'energy_100g': 2243.0,\n",
       " 'fat_100g': 28.57,\n",
       " 'carbohydrates_100g': 64.29,\n",
       " 'sugars_100g': 14.29,\n",
       " 'proteins_100g': 3.57,\n",
       " 'serving_size_g': 28.0,\n",
       " 'created_year': 2017,\n",
       " 'created_month': 3}"
      ]
     },
     "execution_count": 20,
     "metadata": {},
     "output_type": "execute_result"
    }
   ],
   "source": [
    "products[0]"
   ]
  },
  {
   "cell_type": "markdown",
   "metadata": {},
   "source": [
    "# Data Analysis"
   ]
  },
  {
   "cell_type": "markdown",
   "metadata": {},
   "source": [
    "Now that you have a cleaner version of the data, we can finally start to perform some data analysis."
   ]
  },
  {
   "cell_type": "markdown",
   "metadata": {},
   "source": [
    "## Question 1: What is the range of years for which we have data?"
   ]
  },
  {
   "cell_type": "code",
   "execution_count": 28,
   "metadata": {},
   "outputs": [
    {
     "name": "stdout",
     "output_type": "stream",
     "text": [
      "The range is 5\n",
      "The first product was created in the year 2012 and the latest product was created in 2017\n"
     ]
    }
   ],
   "source": [
    "# Your work here\n",
    "created_years = []\n",
    "for product in products:\n",
    "   created_years.append(product['created_year'])\n",
    "\n",
    "min_year = min(created_years)\n",
    "max_year = max(created_years)\n",
    "range = max_year - min_year\n",
    "print(\"The range is\", range)\n",
    "print(f\"The first product was created in the year {min_year} and the latest product was created in {max_year}\")"
   ]
  },
  {
   "cell_type": "markdown",
   "metadata": {},
   "source": [
    "<details>\n",
    "            <summary><b><u>Answer</u></b></summary>\n",
    "\n",
    "```python\n",
    "years = [product['created_year'] for product in products]\n",
    "print(min(years))\n",
    "print(max(years))\n",
    "```    \n",
    "</details>"
   ]
  },
  {
   "cell_type": "markdown",
   "metadata": {},
   "source": [
    "## Question 2: What is the average number of calories per 100g for all of these foods?"
   ]
  },
  {
   "cell_type": "code",
   "execution_count": 31,
   "metadata": {},
   "outputs": [
    {
     "name": "stdout",
     "output_type": "stream",
     "text": [
      "The average calories is 1181.9687873138237\n"
     ]
    }
   ],
   "source": [
    "# Your work here\n",
    "calories = 0\n",
    "for product in products:\n",
    "    calories = calories + product['energy_100g']\n",
    "\n",
    "average_calories = calories / len(products)\n",
    "print(f\"The average calories is {average_calories}\")"
   ]
  },
  {
   "cell_type": "markdown",
   "metadata": {},
   "source": [
    "<details>\n",
    "            <summary><b><u>Answer</u></b></summary>\n",
    "\n",
    "```python\n",
    "cals = [product['energy_100g'] for product in products]\n",
    "\n",
    "sum(cals) / len(cals)\n",
    "```\n",
    "</details>"
   ]
  },
  {
   "cell_type": "markdown",
   "metadata": {},
   "source": [
    "## Question 3: What is the average amount of sugar per 100g in foods that are more than 1000 calories per 100g?"
   ]
  },
  {
   "cell_type": "code",
   "execution_count": 33,
   "metadata": {},
   "outputs": [
    {
     "data": {
      "text/plain": [
       "22.398214438273847"
      ]
     },
     "execution_count": 33,
     "metadata": {},
     "output_type": "execute_result"
    }
   ],
   "source": [
    "# Your work here\n",
    "sugars = []\n",
    "for product in products:\n",
    "    if product['energy_100g'] > 1000:\n",
    "        sugars.append(product['sugars_100g'])\n",
    "sum(sugars) / len(sugars)      "
   ]
  },
  {
   "cell_type": "markdown",
   "metadata": {},
   "source": [
    "<details>\n",
    "            <summary><b><u>Answer</u></b></summary>\n",
    "\n",
    "```python\n",
    "prods_over_1000cal = [product for product in products if product['energy_100g'] > 1000]\n",
    "sugar = [product['sugars_100g'] for product in prods_over_1000cal]\n",
    "sum(sugar) / len(sugar)\n",
    "```\n",
    "</details>"
   ]
  },
  {
   "cell_type": "markdown",
   "metadata": {},
   "source": [
    "## Question 4: How many foods were added (created) in each year?"
   ]
  },
  {
   "cell_type": "code",
   "execution_count": 34,
   "metadata": {},
   "outputs": [
    {
     "data": {
      "text/plain": [
       "{2016: 55, 2017: 47574, 2012: 2, 2013: 15, 2014: 14, 2015: 77}"
      ]
     },
     "execution_count": 34,
     "metadata": {},
     "output_type": "execute_result"
    }
   ],
   "source": [
    "# Your work here\n",
    "prod_year_count = {}\n",
    "list_created_years = [product['created_year'] for product in products]\n",
    "unique_prod_years = set(list_created_years)\n",
    "for unique_year in unique_prod_years:\n",
    "    num_added = len([year for year in list_created_years if year == unique_year])\n",
    "    prod_year_count[unique_year] = num_added\n",
    "\n",
    "prod_year_count"
   ]
  },
  {
   "cell_type": "markdown",
   "metadata": {},
   "source": [
    "<details>\n",
    "            <summary><b><u>Answer</u></b></summary>\n",
    "\n",
    "```python\n",
    "prod_year_count = {}\n",
    "list_created_years = [product['created_year'] for product in products]\n",
    "unique_prod_years = set(list_created_years)\n",
    "for unique_year in unique_prod_years:\n",
    "    num_added = len([year for year in list_created_years if year == unique_year])\n",
    "    prod_year_count[unique_year] = num_added\n",
    "    \n",
    "prod_year_count\n",
    "```\n",
    "</details>"
   ]
  },
  {
   "cell_type": "markdown",
   "metadata": {},
   "source": [
    "# Chart the Data"
   ]
  },
  {
   "cell_type": "markdown",
   "metadata": {},
   "source": [
    "This rendering of the data directly in the notebook is helpful, but it takes a lot of effort to read it and make sense of the trends - let's visualize the results to make this easier."
   ]
  },
  {
   "cell_type": "code",
   "execution_count": 35,
   "metadata": {},
   "outputs": [],
   "source": [
    "from matplotlib import pyplot as plt"
   ]
  },
  {
   "cell_type": "code",
   "execution_count": 36,
   "metadata": {},
   "outputs": [
    {
     "data": {
      "image/png": "[encoded data removed]",
      "text/plain": [
       "<Figure size 720x360 with 1 Axes>"
      ]
     },
     "metadata": {
      "needs_background": "light"
     },
     "output_type": "display_data"
    }
   ],
   "source": [
    "# create a figure and one plot\n",
    "fig, ax = plt.subplots(nrows=1, ncols=1, figsize=(10, 5))\n",
    "\n",
    "# place data in a bar chart\n",
    "# where the x-axis is each year and\n",
    "# the y-axis is the number of products added per year\n",
    "ax.bar(prod_year_count.keys(),\n",
    "       prod_year_count.values())\n",
    "\n",
    "# set axis labels\n",
    "ax.set_xlabel(\"Year\")\n",
    "ax.set_ylabel(\"Number of Products Added\")\n",
    "\n",
    "# give the bar chart a title\n",
    "ax.set_title(\"Foods Added to the Open Food Facts Database\")\n",
    "\n",
    "# display bar chart clearly\n",
    "fig.tight_layout()"
   ]
  },
  {
   "cell_type": "markdown",
   "metadata": {},
   "source": [
    "# Level Up: `Counter`"
   ]
  },
  {
   "cell_type": "markdown",
   "metadata": {},
   "source": [
    "The `collections` package has a lot of useful tools for working with Python objects containing multiple elements. You can use the `Counter` class to easily count the number of values in a list.\n",
    "\n",
    "For example, let's say that for all dictionaries in `sales`, we want to count how many property sales occured in each year. "
   ]
  },
  {
   "cell_type": "code",
   "execution_count": 37,
   "metadata": {},
   "outputs": [
    {
     "data": {
      "text/plain": [
       "Counter({2017: 47574, 2015: 77, 2014: 14, 2013: 15, 2016: 55, 2012: 2})"
      ]
     },
     "execution_count": 37,
     "metadata": {},
     "output_type": "execute_result"
    }
   ],
   "source": [
    "from collections import Counter\n",
    "\n",
    "prod_year_count = Counter([product['created_year'] for product in products])\n",
    "prod_year_count"
   ]
  },
  {
   "cell_type": "markdown",
   "metadata": {},
   "source": [
    "Let's sort these by year. Since the value in `sale_year` is an integer, we can use Python's built-in [`sorted`](https://docs.python.org/3/library/functions.html#sorted) function to transform the `Counter` object into a `list` of `tuples` - `(year, count)` which are sorted in ascending order by year."
   ]
  },
  {
   "cell_type": "code",
   "execution_count": 38,
   "metadata": {},
   "outputs": [
    {
     "data": {
      "text/plain": [
       "[(2012, 2), (2013, 15), (2014, 14), (2015, 77), (2016, 55), (2017, 47574)]"
      ]
     },
     "execution_count": 38,
     "metadata": {},
     "output_type": "execute_result"
    }
   ],
   "source": [
    "prod_year_count = sorted(prod_year_count.items())\n",
    "prod_year_count"
   ]
  },
  {
   "cell_type": "markdown",
   "metadata": {},
   "source": [
    "# Level Up: Using `datetime`"
   ]
  },
  {
   "cell_type": "markdown",
   "metadata": {},
   "source": [
    "Python has a [`datetime`](https://docs.python.org/3.7/library/datetime.html) package that is the standard tool for handling dates and times. `datetime` objects make it easy to do fun things like subtract dates to calculate how far apart they are."
   ]
  },
  {
   "cell_type": "code",
   "execution_count": 41,
   "metadata": {},
   "outputs": [],
   "source": [
    "from datetime import datetime"
   ]
  },
  {
   "cell_type": "code",
   "execution_count": 42,
   "metadata": {},
   "outputs": [],
   "source": [
    "for product in products:\n",
    "    # Transform DocumentDate from string to datetime\n",
    "    product[\"clean_date\"] = datetime.strptime(product[\"last_modified_date\"], \n",
    "                                           \"%Y-%m-%d\")\n",
    "    \n",
    "    # Add the sale year and month to each dictionary element of sales\n",
    "    product[\"last_modified_year\"] = product[\"clean_date\"].year\n",
    "    product[\"last_modified_month\"] = product[\"clean_date\"].month"
   ]
  },
  {
   "cell_type": "markdown",
   "metadata": {},
   "source": [
    "Let's inspect our work"
   ]
  },
  {
   "cell_type": "code",
   "execution_count": 43,
   "metadata": {},
   "outputs": [
    {
     "data": {
      "text/plain": [
       "{'product_name': 'Banana Chips Sweetened (Whole)',\n",
       " 'brands': '',\n",
       " 'created_date': '2017-03-09',\n",
       " 'last_modified_date': '2017-03-09',\n",
       " 'serving_size': '28.0 g',\n",
       " 'energy_100g': 2243.0,\n",
       " 'fat_100g': 28.57,\n",
       " 'carbohydrates_100g': 64.29,\n",
       " 'sugars_100g': 14.29,\n",
       " 'proteins_100g': 3.57,\n",
       " 'serving_size_g': 28.0,\n",
       " 'created_year': 2017,\n",
       " 'created_month': 3,\n",
       " 'clean_date': datetime.datetime(2017, 3, 9, 0, 0),\n",
       " 'last_modified_year': 2017,\n",
       " 'last_modified_month': 3}"
      ]
     },
     "execution_count": 43,
     "metadata": {},
     "output_type": "execute_result"
    }
   ],
   "source": [
    "products[0]"
   ]
  },
  {
   "cell_type": "code",
   "execution_count": null,
   "metadata": {},
   "outputs": [],
   "source": []
  }
 ],
 "metadata": {
  "kernelspec": {
   "display_name": "Python 3",
   "language": "python",
   "name": "python3"
  },
  "language_info": {
   "codemirror_mode": {
    "name": "ipython",
    "version": 3
   },
   "file_extension": ".py",
   "mimetype": "text/x-python",
   "name": "python",
   "nbconvert_exporter": "python",
   "pygments_lexer": "ipython3",
   "version": "3.8.5"
  },
  "toc": {
   "base_numbering": 1,
   "nav_menu": {},
   "number_sections": true,
   "sideBar": true,
   "skip_h1_title": false,
   "title_cell": "Table of Contents",
   "title_sidebar": "Contents",
   "toc_cell": true,
   "toc_position": {},
   "toc_section_display": true,
   "toc_window_display": true
  }
 },
 "nbformat": 4,
 "nbformat_minor": 2
}
